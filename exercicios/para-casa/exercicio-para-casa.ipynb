{
  "nbformat": 4,
  "nbformat_minor": 0,
  "metadata": {
    "colab": {
      "provenance": [],
      "authorship_tag": "ABX9TyPPiZOBMUt1bIeJ4wFtnNEZ",
      "include_colab_link": true
    },
    "kernelspec": {
      "name": "python3",
      "display_name": "Python 3"
    },
    "language_info": {
      "name": "python"
    }
  },
  "cells": [
    {
      "cell_type": "markdown",
      "metadata": {
        "id": "view-in-github",
        "colab_type": "text"
      },
      "source": [
        "<a href=\"https://colab.research.google.com/github/madubmello/on29-python-s09-pandas-numpy-I/blob/main/exercicios/para-casa/exercicio-para-casa.ipynb\" target=\"_parent\"><img src=\"https://colab.research.google.com/assets/colab-badge.svg\" alt=\"Open In Colab\"/></a>"
      ]
    },
    {
      "cell_type": "code",
      "execution_count": 31,
      "metadata": {
        "id": "Joc_LCuAUakS"
      },
      "outputs": [],
      "source": [
        "import pandas as pd\n",
        "\n",
        "df = pd.read_csv('data_sample_SP.csv', sep=';', encoding='latin-1', on_bad_lines='skip')"
      ]
    },
    {
      "cell_type": "code",
      "source": [
        "#Calculando a média da temperatura da amostra\n",
        "\n",
        "df['TEMPERATURA DO AR - BULBO SECO. HORARIA (C)'].mean()"
      ],
      "metadata": {
        "id": "SWAbJpVFVy8v"
      },
      "execution_count": null,
      "outputs": []
    },
    {
      "cell_type": "code",
      "source": [
        "#Retirando nulos da coluna 'RADIACAO GLOBAL (Kj/m2)'\n",
        "\n",
        "df.dropna(subset='RADIACAO GLOBAL (Kj/m2)')"
      ],
      "metadata": {
        "id": "e7-B39D0Xhkh"
      },
      "execution_count": null,
      "outputs": []
    },
    {
      "cell_type": "code",
      "source": [
        "#Copiando o dataframe e reduzindo para 3 colunas e 1000 linhas aleatórias\n",
        "\n",
        "df_reduzido = df.sample(1000) #selecionando uma amostra de 1000 registros aleatórios e atribuindo à variável 'df_reduzido'\n",
        "df_reduzido = df_reduzido[['PRECIPITAO TOTAL. HORARIO (mm)', 'TEMPERATURA DO AR - BULBO SECO. HORARIA (C)', 'ESTACAO']] #atribuindo à variável somente as colunas selecionadas\n",
        "df_reduzido #imprimindo o novo dataframe"
      ],
      "metadata": {
        "id": "EMQzFnp7YTNP"
      },
      "execution_count": null,
      "outputs": []
    },
    {
      "cell_type": "code",
      "source": [
        "#Normalizando a coluna 'TEMPERATURA DO PONTO DE ORVALHO (C)'\n",
        "\n",
        "df['TEMPERATURA DO PONTO DE ORVALHO (C)'] = (df['TEMPERATURA DO PONTO DE ORVALHO (C)'] - df['TEMPERATURA DO PONTO DE ORVALHO (C)'].min())/(df['TEMPERATURA DO PONTO DE ORVALHO (C)'].max() - df['TEMPERATURA DO PONTO DE ORVALHO (C)'].min())"
      ],
      "metadata": {
        "id": "H_V9T-UzcJ-e"
      },
      "execution_count": 32,
      "outputs": []
    }
  ]
}